{
 "cells": [
  {
   "cell_type": "code",
   "execution_count": 1,
   "metadata": {},
   "outputs": [],
   "source": [
    "COMMANDS = [\"Alexa what is the weather outside ? \",\n",
    "\"Alexa what is today's date ? \", \n",
    "\"Alexa what time is it ? \", \n",
    "\"Alexa when is Thanksgiving ? \",\n",
    "\"Alexa how do you bake chocolate chip cookies ? \",\n",
    "\"Alexa what is two times four ? \",\n",
    "\"Alexa how many tablespoons in a cup ? \",\n",
    "\"Alexa how do you spell symptom ? \",\n",
    "\"Alexa play classical music . \",\n",
    "\"Alexa volume eight . \", \n",
    "\"Alexa play jazz . \",\n",
    "\"Alexa volume six . \",\n",
    "\"Alexa stop . \",\n",
    "\"Alexa remind me to start the laundry tomorrow at two p_m . \",\n",
    "\"Alexa remind me to feed the dog at seven p_m everyday . \",\n",
    "\"Alexa tell me my reminders . \",\n",
    "\"Alexa remember my daughter's birthday is June first . \", \n",
    "\"Alexa set a timer in five seconds . \",\n",
    "\"Alexa set my alarm for seven a_m tomorrow . \",\n",
    "\"Alexa add oranges and grapes to my shopping list . \",\n",
    "\"Alexa what is in my shopping list ? \",\n",
    "\"Alexa call six zero three six six zero two two zero three . \",\n",
    "\"Alexa hang up . \",\n",
    "\"Alexa find my phone . \",\n",
    "\"Alexa quit . \",\n",
    "\"Alexa turn the bedroom light on . \",\n",
    "\"Alexa turn the bedroom light red . \",\n",
    "\"Alexa change brightness to ten . \",\n",
    "\"Alexa turn off the bedroom light . \",\n",
    "\"Alexa open the kitchen camera . \",\n",
    "\"Alexa hide the kitchen camera . \",\n",
    "\"Alexa play white collar on fire tv . \",\n",
    "\"Alexa pause . \"]"
   ]
  }
 ],
 "metadata": {
  "kernelspec": {
   "display_name": "Python 3.9.13 ('Kurtz-NLP': venv)",
   "language": "python",
   "name": "python3"
  },
  "language_info": {
   "codemirror_mode": {
    "name": "ipython",
    "version": 3
   },
   "file_extension": ".py",
   "mimetype": "text/x-python",
   "name": "python",
   "nbconvert_exporter": "python",
   "pygments_lexer": "ipython3",
   "version": "3.9.13"
  },
  "orig_nbformat": 4,
  "vscode": {
   "interpreter": {
    "hash": "658c0367f4af256c4bd43ddb88811b451aab9ff1cdcb436b6b9dd40ca78d7f78"
   }
  }
 },
 "nbformat": 4,
 "nbformat_minor": 2
}
