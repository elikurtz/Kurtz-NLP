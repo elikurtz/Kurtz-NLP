{
 "cells": [
  {
   "cell_type": "code",
   "execution_count": 9,
   "metadata": {},
   "outputs": [
    {
     "name": "stdout",
     "output_type": "stream",
     "text": [
      "Analyzing file 1 of 18: AD\\012.wav\n",
      "Analyzing file 2 of 18: AD\\014.wav\n",
      "Analyzing file 3 of 18: AD\\035.wav\n",
      "Analyzing file 4 of 18: AD\\057.wav\n",
      "Analyzing file 5 of 18: AD\\064.wav\n",
      "Analyzing file 6 of 18: AD\\074.wav\n",
      "Analyzing file 7 of 18: AD\\075.wav\n",
      "Analyzing file 8 of 18: AD\\076.wav\n",
      "Analyzing file 9 of 18: AD\\077.wav\n",
      "Analyzing file 10 of 18: AD\\078.wav\n",
      "Analyzing file 11 of 18: AD\\079.wav\n",
      "Analyzing file 12 of 18: AD\\080.wav\n",
      "Analyzing file 13 of 18: AD\\081.wav\n",
      "Analyzing file 14 of 18: AD\\083.wav\n",
      "Analyzing file 15 of 18: AD\\084.wav\n",
      "Analyzing file 16 of 18: AD\\085.wav\n",
      "Analyzing file 17 of 18: AD\\086.wav\n",
      "Analyzing file 18 of 18: AD\\088.wav\n",
      "Feature extraction complexity ratio: 27.9 x realtime\n",
      "Analyzing file 1 of 29: Healthy\\015.wav\n",
      "Analyzing file 2 of 29: Healthy\\017.wav\n",
      "Analyzing file 3 of 29: Healthy\\020.wav\n",
      "Analyzing file 4 of 29: Healthy\\021.wav\n",
      "Analyzing file 5 of 29: Healthy\\022.wav\n",
      "Analyzing file 6 of 29: Healthy\\023.wav\n",
      "Analyzing file 7 of 29: Healthy\\024.wav\n",
      "Analyzing file 8 of 29: Healthy\\028.wav\n",
      "Analyzing file 9 of 29: Healthy\\029.wav\n",
      "Analyzing file 10 of 29: Healthy\\032.wav\n",
      "Analyzing file 11 of 29: Healthy\\036.wav\n",
      "Analyzing file 12 of 29: Healthy\\037.wav\n",
      "Analyzing file 13 of 29: Healthy\\039.wav\n",
      "Analyzing file 14 of 29: Healthy\\040.wav\n",
      "Analyzing file 15 of 29: Healthy\\041.wav\n",
      "Analyzing file 16 of 29: Healthy\\042.wav\n",
      "Analyzing file 17 of 29: Healthy\\044.wav\n",
      "Analyzing file 18 of 29: Healthy\\045.wav\n",
      "Analyzing file 19 of 29: Healthy\\052.wav\n",
      "Analyzing file 20 of 29: Healthy\\054.wav\n",
      "Analyzing file 21 of 29: Healthy\\058.wav\n",
      "Analyzing file 22 of 29: Healthy\\059.wav\n",
      "Analyzing file 23 of 29: Healthy\\061.wav\n",
      "Analyzing file 24 of 29: Healthy\\062.wav\n",
      "Analyzing file 25 of 29: Healthy\\066.wav\n",
      "Analyzing file 26 of 29: Healthy\\068.wav\n",
      "Analyzing file 27 of 29: Healthy\\069.wav\n",
      "Analyzing file 28 of 29: Healthy\\070.wav\n",
      "Analyzing file 29 of 29: Healthy\\071.wav\n",
      "Feature extraction complexity ratio: 25.8 x realtime\n",
      "Analyzing file 1 of 28: MCI\\013.wav\n",
      "Analyzing file 2 of 28: MCI\\016.wav\n",
      "Analyzing file 3 of 28: MCI\\018.wav\n",
      "Analyzing file 4 of 28: MCI\\019.wav\n",
      "Analyzing file 5 of 28: MCI\\025.wav\n",
      "Analyzing file 6 of 28: MCI\\026.wav\n",
      "Analyzing file 7 of 28: MCI\\027.wav\n",
      "Analyzing file 8 of 28: MCI\\030.wav\n",
      "Analyzing file 9 of 28: MCI\\031.wav\n",
      "Analyzing file 10 of 28: MCI\\033.wav\n",
      "Analyzing file 11 of 28: MCI\\034.wav\n",
      "Analyzing file 12 of 28: MCI\\038.wav\n",
      "Analyzing file 13 of 28: MCI\\043.wav\n",
      "Analyzing file 14 of 28: MCI\\046.wav\n",
      "Analyzing file 15 of 28: MCI\\047.wav\n",
      "Analyzing file 16 of 28: MCI\\048.wav\n",
      "Analyzing file 17 of 28: MCI\\049.wav\n",
      "Analyzing file 18 of 28: MCI\\050.wav\n",
      "Analyzing file 19 of 28: MCI\\051.wav\n",
      "Analyzing file 20 of 28: MCI\\053.wav\n",
      "Analyzing file 21 of 28: MCI\\055.wav\n",
      "Analyzing file 22 of 28: MCI\\056.wav\n",
      "Analyzing file 23 of 28: MCI\\060.wav\n",
      "Analyzing file 24 of 28: MCI\\065.wav\n",
      "Analyzing file 25 of 28: MCI\\067.wav\n",
      "Analyzing file 26 of 28: MCI\\073.wav\n",
      "Analyzing file 27 of 28: MCI\\082.wav\n",
      "Analyzing file 28 of 28: MCI\\090.wav\n",
      "Feature extraction complexity ratio: 22.2 x realtime\n"
     ]
    }
   ],
   "source": [
    "from pyAudioAnalysis import MidTermFeatures as aF\n",
    "from pyAudioAnalysis import audioTrainTest as aT\n",
    "from sklearn.model_selection import train_test_split\n",
    "#aF.multiple_directory_feature_extraction(dirs, mt, mt, st, st, False)\n",
    "\n",
    "dirs = [\"AD\", \"Healthy\", \"MCI\"]\n",
    "# segment-level feature extraction:\n",
    "feature_matrix = [] \n",
    "for d in dirs: # get feature matrix for each directory (class) \n",
    "    f, files, fn = aF.directory_feature_extraction(d, 1, 1, \n",
    "                                                   0.1, 0.05) \n",
    "    feature_matrix.append(f)\n"
   ]
  },
  {
   "cell_type": "code",
   "execution_count": 10,
   "metadata": {},
   "outputs": [
    {
     "name": "stdout",
     "output_type": "stream",
     "text": [
      "18\n",
      "29\n",
      "28\n"
     ]
    }
   ],
   "source": [
    "AD_matrix = feature_matrix[0]\n",
    "Healthy_matrix = feature_matrix[1]\n",
    "MCI_matrix = feature_matrix[2]\n",
    "feature_matrix_list = [AD_matrix, Healthy_matrix, MCI_matrix]\n",
    "\n",
    "\n",
    "label_matrix = []\n",
    "\n",
    "length_matrix = []\n",
    "for i in feature_matrix_list:\n",
    "    length_matrix.append(len(i))\n",
    "    print(len(i))\n",
    "\n",
    "for i in range(3):\n",
    "    for z in range(len(feature_matrix_list[i])):\n",
    "        label_matrix.append(dirs[i])\n",
    "\n",
    "#print(label_matrix)\n"
   ]
  },
  {
   "cell_type": "code",
   "execution_count": 11,
   "metadata": {},
   "outputs": [],
   "source": [
    "feature_matrix_extended = []\n",
    "for i in feature_matrix:\n",
    "    for z in i:\n",
    "        feature_matrix_extended.append(z)\n",
    "\n",
    "#print(feature_matrix_extended[0])"
   ]
  },
  {
   "cell_type": "code",
   "execution_count": 12,
   "metadata": {},
   "outputs": [],
   "source": [
    "feature_train, feature_test, label_train, label_test = train_test_split(feature_matrix_extended, label_matrix, test_size=0.33)\n",
    "#fix the test train split"
   ]
  },
  {
   "cell_type": "code",
   "execution_count": 13,
   "metadata": {},
   "outputs": [],
   "source": [
    "trained_model = aT.train_svm(feature_train, label_train, 5)"
   ]
  },
  {
   "cell_type": "code",
   "execution_count": 14,
   "metadata": {},
   "outputs": [
    {
     "name": "stdout",
     "output_type": "stream",
     "text": [
      "0.52\n",
      "[[[18  1]\n",
      "  [ 3  3]]\n",
      "\n",
      " [[ 8 10]\n",
      "  [ 1  6]]\n",
      "\n",
      " [[12  1]\n",
      "  [ 8  4]]]\n",
      "              precision    recall  f1-score   support\n",
      "\n",
      "          AD       0.75      0.50      0.60         6\n",
      "     Healthy       0.38      0.86      0.52         7\n",
      "         MCI       0.80      0.33      0.47        12\n",
      "\n",
      "    accuracy                           0.52        25\n",
      "   macro avg       0.64      0.56      0.53        25\n",
      "weighted avg       0.67      0.52      0.52        25\n",
      "\n"
     ]
    }
   ],
   "source": [
    "from sklearn import metrics\n",
    "predict = trained_model.predict(feature_test)\n",
    "\n",
    "print(metrics.accuracy_score(label_test, predict))\n",
    "\n",
    "print(metrics.multilabel_confusion_matrix(label_test, predict))\n",
    "print(metrics.classification_report(label_test, predict))"
   ]
  },
  {
   "cell_type": "markdown",
   "metadata": {},
   "source": [
    "As shown above, the multi-class SVC trained on the data extracted by pyaudioanalysis, and trained with a C = 5 value & linear kernel produced a 60% accuracy rate classifying the 3 classes.\n",
    "\n",
    "Analyze data below graphically:"
   ]
  },
  {
   "cell_type": "code",
   "execution_count": 15,
   "metadata": {},
   "outputs": [
    {
     "name": "stderr",
     "output_type": "stream",
     "text": [
      "C:\\Users\\EliKurtz\\AppData\\Local\\Temp\\ipykernel_2736\\2368868273.py:20: RuntimeWarning: invalid value encountered in log\n",
      "  plt.bar(fn, np.log(AD_average_list))\n"
     ]
    },
    {
     "data": {
      "image/png": "[encoded data removed]",
      "text/plain": [
       "<Figure size 432x288 with 1 Axes>"
      ]
     },
     "metadata": {
      "needs_background": "light"
     },
     "output_type": "display_data"
    },
    {
     "name": "stderr",
     "output_type": "stream",
     "text": [
      "C:\\Users\\EliKurtz\\AppData\\Local\\Temp\\ipykernel_2736\\2368868273.py:23: RuntimeWarning: invalid value encountered in log\n",
      "  plt.bar(fn, np.log(Healthy_average_list))\n"
     ]
    },
    {
     "data": {
      "image/png": "[encoded data removed]",
      "text/plain": [
       "<Figure size 432x288 with 1 Axes>"
      ]
     },
     "metadata": {
      "needs_background": "light"
     },
     "output_type": "display_data"
    },
    {
     "name": "stderr",
     "output_type": "stream",
     "text": [
      "C:\\Users\\EliKurtz\\AppData\\Local\\Temp\\ipykernel_2736\\2368868273.py:26: RuntimeWarning: invalid value encountered in log\n",
      "  plt.bar(fn, np.log(MCI_average_list))\n"
     ]
    },
    {
     "data": {
      "image/png": "[encoded data removed]",
      "text/plain": [
       "<Figure size 432x288 with 1 Axes>"
      ]
     },
     "metadata": {
      "needs_background": "light"
     },
     "output_type": "display_data"
    }
   ],
   "source": [
    "from matplotlib import pyplot as plt\n",
    "import numpy as np\n",
    "\n",
    "def average_matrix(input_matrix):\n",
    "    average_list = []\n",
    "    count = 0\n",
    "    while count < len(fn):\n",
    "        inner_average_list = []\n",
    "        for i in input_matrix:\n",
    "            inner_average_list.append(i[count])\n",
    "        average_list.append(np.average(inner_average_list))\n",
    "        count += 1\n",
    "    return average_list\n",
    "\n",
    " \n",
    "AD_average_list = average_matrix(AD_matrix)\n",
    "Healthy_average_list = average_matrix(Healthy_matrix)\n",
    "MCI_average_list = average_matrix(MCI_matrix)\n",
    "\n",
    "plt.bar(fn, np.log(AD_average_list))\n",
    "plt.show()\n",
    "\n",
    "plt.bar(fn, np.log(Healthy_average_list))\n",
    "plt.show()\n",
    "\n",
    "plt.bar(fn, np.log(MCI_average_list))\n",
    "plt.show()"
   ]
  },
  {
   "cell_type": "code",
   "execution_count": null,
   "metadata": {},
   "outputs": [],
   "source": []
  }
 ],
 "metadata": {
  "interpreter": {
   "hash": "87cd8ac7b9f1336c609a786864fa4503ad9043b39bb8bee3090f63f9c0a39c71"
  },
  "kernelspec": {
   "display_name": "Python 3.9.13 ('NLP_2': venv)",
   "language": "python",
   "name": "python3"
  },
  "language_info": {
   "codemirror_mode": {
    "name": "ipython",
    "version": 3
   },
   "file_extension": ".py",
   "mimetype": "text/x-python",
   "name": "python",
   "nbconvert_exporter": "python",
   "pygments_lexer": "ipython3",
   "version": "3.9.13"
  },
  "orig_nbformat": 4
 },
 "nbformat": 4,
 "nbformat_minor": 2
}
