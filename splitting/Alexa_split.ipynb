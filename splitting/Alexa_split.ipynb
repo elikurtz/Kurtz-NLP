{
 "cells": [
  {
   "cell_type": "code",
   "execution_count": 120,
   "metadata": {},
   "outputs": [],
   "source": [
    "import wave\n",
    "import json\n",
    "from pydub import AudioSegment as AS\n",
    "from vosk import Model, KaldiRecognizer, SetLogLevel\n",
    "import Word as custom_Word"
   ]
  },
  {
   "cell_type": "code",
   "execution_count": 121,
   "metadata": {},
   "outputs": [],
   "source": [
    "model_path = \"model\"\n",
    "\n",
    "audio_filename = input(\"please enter relative path for the file you wish to analyze in .wav format\")\n",
    "\n",
    "model = Model(model_path)\n",
    "wf = wave.open(audio_filename, \"rb\")\n",
    "rec = KaldiRecognizer(model, wf.getframerate())\n",
    "rec.SetWords(True)\n",
    "\n",
    "results = []\n",
    "\n",
    "while True:\n",
    "    data = wf.readframes(4000)\n",
    "    if len(data) == 0:\n",
    "        break\n",
    "    if rec.AcceptWaveform(data):\n",
    "        part_result = json.loads(rec.Result())\n",
    "        results.append(part_result)\n",
    "part_result = json.loads(rec.FinalResult())\n",
    "results.append(part_result)"
   ]
  },
  {
   "cell_type": "code",
   "execution_count": 122,
   "metadata": {},
   "outputs": [],
   "source": [
    "list_of_Words = []\n",
    "list_of_se = []\n",
    "\n",
    "for sentence in results:\n",
    "    if len(sentence) == 1:\n",
    "        continue\n",
    "    for obj in sentence['result']:\n",
    "        w = custom_Word.Word(obj) \n",
    "        se = w.start_end()\n",
    "        list_of_Words.append(w)\n",
    "        list_of_se.append(se)"
   ]
  },
  {
   "cell_type": "code",
   "execution_count": 123,
   "metadata": {},
   "outputs": [
    {
     "name": "stdout",
     "output_type": "stream",
     "text": [
      "[['alexa', '0.33, 1.08'], ['what', '1.44, 1.71'], ['is', '1.71, 1.89'], ['the', '1.89, 2.01'], ['weather', '2.01, 2.39'], ['on', '2.40, 2.61'], ['slanging', '2.61, 3.18'], ['alexa', '3.84, 4.53'], ['what', '4.98, 5.22'], ['is', '5.22, 5.43'], [\"today's\", '5.43, 6.03'], ['date', '6.03, 6.54'], ['alexa', '7.56, 8.22'], ['what', '8.28, 8.52'], ['time', '8.52, 8.85'], ['is', '8.85, 9.06'], ['it', '9.06, 9.21'], ['alexa', '9.87, 10.59'], ['when', '10.65, 10.92'], ['is', '10.92, 11.07'], ['thanksgiving', '11.07, 11.97'], ['collect', '12.90, 13.26'], ['snap', '13.26, 13.62'], ['how', '14.10, 14.25'], ['do', '14.25, 14.37'], ['you', '14.37, 14.55'], ['bake', '14.58, 14.91'], ['chocolate', '14.91, 15.45'], ['chip', '15.48, 15.75'], ['cookies', '15.75, 16.38'], ['alexa', '17.10, 17.79'], ['what', '18.51, 18.75'], ['is', '18.75, 18.96'], ['two', '18.96, 19.26'], ['times', '19.26, 19.80'], ['four', '19.80, 20.16'], ['sure', '20.16, 20.34'], ['alexa', '21.36, 22.02'], ['how', '22.59, 22.77'], ['many', '22.77, 23.10'], ['tablespoons', '23.13, 24.12'], ['in', '24.12, 24.24'], ['a', '24.24, 24.33'], ['cup', '24.36, 24.69'], ['like', '25.62, 25.98'], ['so', '25.98, 26.34'], ['how', '26.91, 27.15'], ['do', '27.15, 27.27'], ['you', '27.27, 27.42'], ['spell', '27.42, 27.96'], ['that', '28.23, 28.41'], ['do', '28.53, 28.89'], ['alexa', '29.85, 30.57'], ['play', '30.96, 31.26'], ['classical', '31.26, 32.04'], ['music', '32.04, 32.64'], ['alexa', '33.27, 33.90'], ['stop', '34.68, 35.10'], ['listen', '35.11, 35.55'], ['alexa', '36.27, 36.96'], ['volume', '37.38, 37.92'], ['gate', '37.92, 38.40'], ['alexa', '39.03, 39.72'], ['play', '39.87, 40.17'], ['jazz', '40.17, 40.89'], ['by', '42.57, 42.90'], ['saying', '42.99, 43.38'], ['alexa', '44.04, 44.70'], ['stop', '44.82, 45.30'], ['alexa', '46.32, 47.01'], ['remind', '47.10, 47.70'], ['me', '47.70, 47.94'], ['to', '47.94, 48.03'], ['start', '48.03, 48.42'], ['the', '48.42, 48.54'], ['laundry', '48.54, 49.02'], ['tomorrow', '49.02, 49.71'], ['at', '49.80, 49.95'], ['two', '49.95, 50.16'], ['pm', '50.16, 50.76'], ['likes', '51.39, 51.81'], ['to', '51.81, 51.96'], ['remind', '51.96, 52.47'], ['me', '52.47, 52.59'], ['to', '52.59, 52.71'], ['start', '52.71, 53.13'], ['the', '53.13, 53.25'], ['laundry', '53.25, 53.73'], ['tomorrow', '53.73, 54.48'], ['two', '54.99, 55.26'], ['pm', '55.26, 55.86'], ['alexa', '56.61, 57.33'], ['remind', '57.48, 57.96'], ['me', '57.96, 58.11'], ['to', '58.11, 58.23'], ['beat', '58.23, 58.56'], ['the', '58.56, 58.68'], ['dog', '58.68, 59.19'], ['at', '59.19, 59.31'], ['seven', '59.31, 59.79'], ['pm', '59.79, 60.33'], ['every', '60.42, 60.81'], ['day', '60.81, 61.20'], ['alexa', '61.86, 62.55'], ['tell', '62.88, 63.12'], ['me', '63.12, 63.27'], ['my', '63.27, 63.51'], ['reminders', '63.51, 64.59'], ['alexa', '65.16, 65.91'], ['remember', '66.81, 67.41'], ['my', '67.41, 67.65'], [\"daughter's\", '67.68, 68.10'], ['birthday', '68.10, 68.79'], ['is', '68.79, 69.03'], ['june', '69.03, 69.39'], ['first', '69.39, 70.08'], ['right', '70.86, 71.25'], ['yes', '72.12, 72.51'], ['alexa', '73.38, 74.10'], ['set', '74.22, 74.55'], ['a', '74.55, 74.61'], ['timer', '74.64, 75.18'], ['in', '75.18, 75.39'], ['five', '75.39, 75.78'], ['seconds', '75.78, 76.44'], ['alive', '76.98, 77.33'], ['so', '77.34, 77.61'], ['stop', '77.62, 78.15'], ['alexa', '78.78, 79.47'], ['set', '79.74, 80.04'], ['my', '80.04, 80.34'], ['alarm', '80.34, 80.88'], ['for', '80.88, 81.09'], ['seven', '81.09, 81.48'], ['am', '81.48, 81.99'], ['tomorrow', '81.99, 82.65'], ['alexa', '83.28, 84.00'], ['add', '84.57, 84.93'], ['oranges', '84.93, 85.56'], ['and', '85.56, 85.71'], ['grapes', '85.71, 86.34'], ['my', '86.40, 86.64'], ['shopping', '86.67, 87.18'], ['list', '87.18, 87.66'], ['alexa', '88.35, 89.04'], ['what', '89.55, 89.82'], ['is', '89.82, 89.97'], ['in', '89.97, 90.12'], ['my', '90.15, 90.30'], ['shopping', '90.33, 90.84'], ['list', '90.84, 91.29'], ['alexa', '91.95, 92.64'], ['call', '93.54, 94.26'], ['six', '94.68, 95.07'], ['one', '95.07, 95.37'], ['three', '95.40, 96.06'], ['six', '96.66, 97.02'], ['six', '97.02, 97.41'], ['zero', '97.47, 98.10'], ['two', '98.46, 98.76'], ['two', '98.76, 99.12'], ['zero', '99.12, 99.58'], ['three', '99.66, 100.14'], ['yes', '100.83, 101.28'], ['alexa', '102.12, 102.78'], ['hang', '103.47, 103.82'], ['up', '103.83, 104.07'], ['alex', '104.97, 105.39'], ['now', '105.39, 105.66'], ['find', '105.90, 106.29'], ['my', '106.29, 106.56'], ['phone', '106.59, 106.80'], ['home', '106.80, 107.16'], ['alexa', '107.82, 108.38'], ['quit', '108.39, 108.93'], ['alexa', '109.74, 110.46'], ['turn', '110.88, 111.18'], ['the', '111.18, 111.27'], ['bedroom', '111.27, 111.72'], ['light', '111.72, 112.11'], ['on', '112.11, 112.44'], ['alexa', '113.52, 114.06'], ['alexa', '115.17, 115.77'], ['turn', '115.86, 116.16'], ['the', '116.16, 116.25'], ['bedroom', '116.28, 116.64'], ['light', '116.67, 117.03'], ['room', '117.06, 117.51'], ['alexa', '118.56, 119.25'], ['change', '119.37, 119.79'], ['brightness', '119.79, 120.39'], ['to', '120.45, 120.63'], ['ten', '120.66, 121.20'], ['alexa', '121.83, 122.40'], ['turn', '122.70, 122.97'], ['off', '122.97, 123.18'], ['the', '123.18, 123.30'], ['bedroom', '123.30, 123.66'], ['light', '123.66, 124.11'], ['alexa', '124.80, 125.46'], ['open', '125.67, 126.03'], ['the', '126.03, 126.18'], ['kitchen', '126.18, 126.69'], ['camera', '126.69, 127.35'], ['to', '128.40, 128.70'], ['hide', '129.12, 129.66'], ['the', '129.78, 129.93'], ['kitchen', '129.93, 130.35'], ['camera', '130.35, 130.92'], ['plain', '132.57, 132.93'], ['white', '132.96, 133.32'], ['collar', '133.38, 133.92'], ['on', '133.92, 134.16'], ['fire', '134.16, 134.61'], ['tv', '134.64, 135.27'], ['alexa', '135.87, 136.53'], ['pause', '136.71, 137.22'], ['alexa', '138.24, 138.90'], ['pause', '139.08, 139.68'], ['alexa', '140.52, 141.24'], ['turn', '141.39, 141.69'], ['the', '141.69, 141.78'], ['bedroom', '141.78, 142.20'], ['light', '142.20, 142.59'], ['on', '142.59, 143.01']]\n"
     ]
    }
   ],
   "source": [
    "list_of_Words_string = []\n",
    "for word in list_of_Words:    # print(word.to_string())\n",
    "    list_of_Words_string.append(word.word_return())\n",
    "\n",
    "output = []\n",
    "for i in range(len(list_of_Words_string)):\n",
    "    output_temp = [list_of_Words_string[i], list_of_se[i]]\n",
    "    output.append(output_temp)\n",
    "\n",
    "print(output)"
   ]
  },
  {
   "cell_type": "code",
   "execution_count": 124,
   "metadata": {},
   "outputs": [],
   "source": [
    "alexa_list = []\n",
    "for i in output:\n",
    "    if i[0] == \"alexa\":\n",
    "        split_alexa = i[1].split(\",\")\n",
    "        i = [i[0], split_alexa[0], split_alexa[1]]\n",
    "        alexa_list.append(i)\n",
    "\n",
    "\n",
    "def clip_file(alexa_begin, alexa_end):\n",
    "    part = AS.from_file(audio_filename)\n",
    "    t1 = float(alexa_begin[1]) * 1000\n",
    "    t2 = float(alexa_end[1]) * 1000\n",
    "    clip = part[t1:t2]\n",
    "    return clip\n",
    "\n",
    "\n",
    "clipped_alexa_files = []\n",
    "z = 0\n",
    "while z+1 != len(alexa_list):\n",
    "    clipped_alexa_files.append(clip_file(alexa_list[z], alexa_list[z+1]))\n",
    "    z += 1\n",
    "\n",
    "def _19(alexa_begin):\n",
    "    part = AS.from_file(audio_filename)\n",
    "    t1 = float(alexa_begin[1]) * 1000\n",
    "    clip = part[t1:]\n",
    "    return clip\n",
    "\n",
    "last_command = _19(alexa_list[-1])\n",
    "clipped_alexa_files.append(last_command)"
   ]
  },
  {
   "cell_type": "code",
   "execution_count": 125,
   "metadata": {},
   "outputs": [],
   "source": [
    "audio_filename = audio_filename.split(\"\\\\\")"
   ]
  },
  {
   "cell_type": "code",
   "execution_count": 126,
   "metadata": {},
   "outputs": [],
   "source": [
    "count = 0\n",
    "while count != len(clipped_alexa_files):\n",
    "        name = (\"command\" + str(count+1) + audio_filename[0] + audio_filename[1])\n",
    "        clipped_alexa_files[count].export(name, format=\"wav\")\n",
    "        count += 1"
   ]
  }
 ],
 "metadata": {
  "interpreter": {
   "hash": "87cd8ac7b9f1336c609a786864fa4503ad9043b39bb8bee3090f63f9c0a39c71"
  },
  "kernelspec": {
   "display_name": "Python 3.9.13 ('NLP_2': venv)",
   "language": "python",
   "name": "python3"
  },
  "language_info": {
   "codemirror_mode": {
    "name": "ipython",
    "version": 3
   },
   "file_extension": ".py",
   "mimetype": "text/x-python",
   "name": "python",
   "nbconvert_exporter": "python",
   "pygments_lexer": "ipython3",
   "version": "3.9.13"
  },
  "orig_nbformat": 4
 },
 "nbformat": 4,
 "nbformat_minor": 2
}
