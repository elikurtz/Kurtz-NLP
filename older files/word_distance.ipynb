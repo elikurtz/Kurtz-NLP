{
 "cells": [
  {
   "cell_type": "code",
   "execution_count": 4,
   "metadata": {},
   "outputs": [],
   "source": [
    "import os\n",
    "import opensmile\n",
    "import pandas as pd\n",
    "import numpy as np\n",
    "from natsort import natsorted\n",
    "import pandas as pd\n",
    "from pydub import AudioSegment as AS\n",
    "from ChaFile import *\n",
    "from difflib import SequenceMatcher as sm\n",
    "import editdistance as ed\n",
    "from sklearn import svm\n",
    "from sklearn.model_selection import train_test_split\n",
    "from sklearn import metrics"
   ]
  },
  {
   "cell_type": "code",
   "execution_count": 5,
   "metadata": {},
   "outputs": [],
   "source": [
    "smile = opensmile.Smile(\n",
    "    feature_set=opensmile.FeatureSet.ComParE_2016,\n",
    "    feature_level=opensmile.FeatureLevel.Functionals,\n",
    ")\n",
    "\n",
    "dir_healthy_wav = input(\"enter the (full) path to your directory of healthy WAV files --> \")\n",
    "dir_healthy_cha = input(\"enter the (full) path to your directory of healthy CHA files --> \")\n",
    "\n",
    "dir_AD_wav = input(\"enter the (full) path to your directory of AD WAV files --> \")\n",
    "dir_AD_cha = input(\"enter the (full) path to your directory of AD CHA files --> \")\n",
    "\n",
    "dir_MCI_wav = input(\"enter the (full) path to your directory of MCI WAV files --> \")\n",
    "dir_MCI_cha = input(\"enter the (full) path to your directory of MCI CHA files --> \")\n"
   ]
  },
  {
   "cell_type": "code",
   "execution_count": 6,
   "metadata": {},
   "outputs": [],
   "source": [
    "def checker(wav, cha):\n",
    "    files_from_dir = os.listdir(wav)\n",
    "    files_from_dir_2 = os.listdir(cha)\n",
    "    if len(files_from_dir) != len(files_from_dir_2):\n",
    "        quit(\"not equal\")\n",
    "\n",
    "checker(dir_healthy_wav, dir_healthy_cha)\n",
    "checker(dir_AD_wav, dir_AD_cha)\n",
    "checker(dir_MCI_wav, dir_MCI_cha)\n",
    "\n",
    "AD_cha_files = natsorted(os.listdir(dir_AD_cha))\n",
    "AD_wav_files = natsorted(os.listdir(dir_AD_wav))\n",
    "\n",
    "MCI_cha_files = natsorted(os.listdir(dir_MCI_cha))\n",
    "MCI_wav_files = natsorted(os.listdir(dir_MCI_wav))\n",
    "\n",
    "Healthy_cha_files = natsorted(os.listdir(dir_healthy_cha))\n",
    "Healthy_wav_files = natsorted(os.listdir(dir_healthy_wav))"
   ]
  },
  {
   "cell_type": "code",
   "execution_count": 23,
   "metadata": {},
   "outputs": [],
   "source": [
    "keys_1 = [\"command_1\", \"command_2\", \"command_3\", \"command_4\", \"command_5\", \"command_6\", \"command_7\", \"command_8\", \"command_9\", \n",
    "\"command_10\", \"command_11\", \"command_12\", \"command_13\", \"command_14\", \"command_15\", \"command_16\", \"command_17\", \"command_18\", \"command_19\",\n",
    "\"command_20\", \"command_21\", \"command_22\", \"command_23\", \"command_24\", \"command_25\", \"command_26\", \"command_27\", \"command_28\", \"command_29\",\n",
    "\"command_30\", \"command_31\", \"command_32\", \"command_33\"]\n",
    "\n",
    "COMMANDS = [\"Alexa what is the weather outside ? \",\n",
    "\"Alexa what is today's date ? \", \n",
    "\"Alexa what time is it ? \", \n",
    "\"Alexa when is Thanksgiving ? \",\n",
    "\"Alexa how do you bake chocolate chip cookies ? \",\n",
    "\"Alexa what is two times four ? \",\n",
    "\"Alexa how many tablespoons in a cup ? \",\n",
    "\"Alexa how do you spell symptom ? \",\n",
    "\"Alexa play classical music . \",\n",
    "\"Alexa volume eight . \", \n",
    "\"Alexa play jazz . \",\n",
    "\"Alexa volume six . \",\n",
    "\"Alexa stop . \",\n",
    "\"Alexa remind me to start the laundry tomorrow at two p_m . \",\n",
    "\"Alexa remind me to feed the dog at seven p_m everyday . \",\n",
    "\"Alexa tell me my reminders . \",\n",
    "\"Alexa remember my daughter's birthday is June first . \", \n",
    "\"Alexa set a timer in five seconds . \",\n",
    "\"Alexa set my alarm for seven a_m tomorrow . \",\n",
    "\"Alexa add oranges and grapes to my shopping list . \",\n",
    "\"Alexa what is in my shopping list ? \",\n",
    "\"Alexa call six zero three six six zero two two zero three . \",\n",
    "\"Alexa hang up . \",\n",
    "\"Alexa find my phone . \",\n",
    "\"Alexa quit . \",\n",
    "\"Alexa turn the bedroom light on . \",\n",
    "\"Alexa turn the bedroom light red . \",\n",
    "\"Alexa change brightness to ten . \",\n",
    "\"Alexa turn off the bedroom light . \",\n",
    "\"Alexa open the kitchen camera . \",\n",
    "\"Alexa hide the kitchen camera . \",\n",
    "\"Alexa play white collar on fire tv . \",\n",
    "\"Alexa pause . \",\n",
    "\"yes . \"]\n"
   ]
  },
  {
   "cell_type": "code",
   "execution_count": 50,
   "metadata": {},
   "outputs": [],
   "source": [
    "def distance(str1, str2):\n",
    "    sql = sm(None, str1, str2)\n",
    "    return sql.ratio()\n",
    "\n",
    "\n",
    "def categorize(cha_dir, wav_dir, cha_file, wav_file):\n",
    "    os.chdir(cha_dir)\n",
    "    cha = ChaFile(cha_file)\n",
    "    lines = cha.getLines()\n",
    "    data_set = []\n",
    "    for data in lines:\n",
    "        utterance = data[\"xol\"]\n",
    "        timestamp = data[\"bullet\"]\n",
    "        utterance = utterance.split(\" \")\n",
    "        dist = []\n",
    "        edit_dist = []\n",
    "        for com in COMMANDS:\n",
    "            dist.append(distance(com, data[\"xol\"]))\n",
    "            #this method uses the edit distance approach\n",
    "            utterance = data[\"xol\"]\n",
    "            edit_dist.append(ed.eval(com, utterance))\n",
    "        edit_min = min(edit_dist)\n",
    "        closest_neighbor = COMMANDS[dist.index(max(dist))]\n",
    "        percent_match = (max(dist))\n",
    "        data_set.append([utterance, edit_min, percent_match, closest_neighbor])\n",
    "        frame = pd.DataFrame(data_set)\n",
    "        frame.columns = [\"utterance\", \"edit min\", \"percent match\", \"closest neighbor\"]\n",
    "    # os.chdir(\"..\")\n",
    "    # with pd.ExcelWriter(\"editdist.xlsx\", mode=\"a\", engine=\"openpyxl\") as writer:\n",
    "    #     frame.to_excel(writer, sheet_name=cha_file)   \n",
    "    esum = frame[\"edit min\"].sum()\n",
    "    psum = frame[\"percent match\"].sum()\n",
    "    return esum, psum\n",
    "\n",
    "        \n"
   ]
  },
  {
   "cell_type": "code",
   "execution_count": 51,
   "metadata": {},
   "outputs": [
    {
     "name": "stdout",
     "output_type": "stream",
     "text": [
      "[96, 32, 290, 108, 33, 40, 66, 11, 54, 431, 95, 263, 156, 92, 228, 9, 164, 28, 47] [35.726423477996704, 34.07191145041998, 47.053117138549624, 38.55662229413788, 35.236802413273, 34.882193557837866, 36.790224518707184, 34.88755622188906, 33.60971338142743, 13.91247266329204, 43.160411551581014, 39.80759107006037, 35.10857947997927, 21.824697754393117, 16.722583648929227, 30.9126213592233, 30.59357704808477, 29.66788787594786, 32.102916356186114]\n",
      "[12, 36, 88, 504, 206, 44, 106, 80, 123, 45, 85, 19, 19, 82, 149, 31, 131, 80, 460, 91, 27, 29, 0, 130, 76, 88, 70, 19] [37.82322705577607, 36.36915772286855, 34.400717487124105, 47.73859658344965, 37.49003219678676, 36.62887213134921, 41.07391254508235, 40.16885517383767, 47.776267817807344, 38.08710592787394, 39.271887601122685, 38.0119461122884, 40.73704477053123, 42.04833053313534, 42.13910948451125, 40.468404553704005, 47.02824153449588, 37.37580119167873, 40.99335586242703, 41.76207661092429, 37.62550640760645, 37.65015801192272, 38.0, 44.04076982123465, 36.076352344216374, 34.85573259663053, 32.7386333756657, 28.811671240791565]\n",
      "[0, 65, 47, 88, 4, 15, 4, 99, 7, 96, 132, 20, 10, 14, 29, 54, 5, 28, 211, 34, 7, 66, 51, 147, 23, 48, 21, 112, 9, 179] [37.0, 40.8357880804342, 38.56946902475317, 41.78172678483588, 36.96610169491525, 35.92582171037452, 39.96610169491525, 39.70589520374886, 42.91127819548872, 41.690505877290775, 37.79412274000509, 39.33401720192535, 40.90068113416759, 37.588994621543634, 37.120840009031994, 45.952486431716906, 37.48275862068965, 38.58961252179008, 46.964481358621796, 38.160673515981735, 36.631578947368425, 40.6186667768921, 36.11785433486465, 43.495498921674866, 37.34137291280148, 43.92814960313635, 36.76888341543514, 38.3750038893515, 37.89935064935065, 33.94489783061628]\n"
     ]
    }
   ],
   "source": [
    "edist_ad = []\n",
    "pdist_ad = []\n",
    "for i in range(len(AD_cha_files)):\n",
    "    sum_edist, sum_pdist = categorize(dir_AD_cha, dir_AD_wav, AD_cha_files[i], AD_wav_files[i])\n",
    "    edist_ad.append(sum_edist)\n",
    "    pdist_ad.append(sum_pdist)\n",
    "\n",
    "edist_mci = []\n",
    "pdist_mci= []\n",
    "for i in range(len(MCI_cha_files)):\n",
    "    sum_edist, sum_pdist = categorize(dir_MCI_cha, dir_MCI_wav, MCI_cha_files[i], MCI_wav_files[i])\n",
    "    edist_mci.append(sum_edist)\n",
    "    pdist_mci.append(sum_pdist)\n",
    "\n",
    "edist_h = []\n",
    "pdist_h= []\n",
    "for i in range(len(Healthy_cha_files)):\n",
    "    sum_edist, sum_pdist = categorize(dir_healthy_cha, dir_healthy_wav, Healthy_cha_files[i], Healthy_wav_files[i])\n",
    "    edist_h.append(sum_edist)\n",
    "    pdist_h.append(sum_pdist)\n",
    "\n",
    "print(edist_ad, pdist_ad)\n",
    "print(edist_mci, pdist_mci)\n",
    "print(edist_h, pdist_h)"
   ]
  },
  {
   "cell_type": "code",
   "execution_count": 52,
   "metadata": {},
   "outputs": [
    {
     "name": "stdout",
     "output_type": "stream",
     "text": [
      "[[96, 35.726423477996704], [32, 34.07191145041998], [290, 47.053117138549624], [108, 38.55662229413788], [33, 35.236802413273], [40, 34.882193557837866], [66, 36.790224518707184], [11, 34.88755622188906], [54, 33.60971338142743], [431, 13.91247266329204], [95, 43.160411551581014], [263, 39.80759107006037], [156, 35.10857947997927], [92, 21.824697754393117], [228, 16.722583648929227], [9, 30.9126213592233], [164, 30.59357704808477], [28, 29.66788787594786], [47, 32.102916356186114], [12, 37.82322705577607], [36, 36.36915772286855], [88, 34.400717487124105], [504, 47.73859658344965], [206, 37.49003219678676], [44, 36.62887213134921], [106, 41.07391254508235], [80, 40.16885517383767], [123, 47.776267817807344], [45, 38.08710592787394], [85, 39.271887601122685], [19, 38.0119461122884], [19, 40.73704477053123], [82, 42.04833053313534], [149, 42.13910948451125], [31, 40.468404553704005], [131, 47.02824153449588], [80, 37.37580119167873], [460, 40.99335586242703], [91, 41.76207661092429], [27, 37.62550640760645], [29, 37.65015801192272], [0, 38.0], [130, 44.04076982123465], [76, 36.076352344216374], [88, 34.85573259663053], [70, 32.7386333756657], [19, 28.811671240791565], [0, 37.0], [65, 40.8357880804342], [47, 38.56946902475317], [88, 41.78172678483588], [4, 36.96610169491525], [15, 35.92582171037452], [4, 39.96610169491525], [99, 39.70589520374886], [7, 42.91127819548872], [96, 41.690505877290775], [132, 37.79412274000509], [20, 39.33401720192535], [10, 40.90068113416759], [14, 37.588994621543634], [29, 37.120840009031994], [54, 45.952486431716906], [5, 37.48275862068965], [28, 38.58961252179008], [211, 46.964481358621796], [34, 38.160673515981735], [7, 36.631578947368425], [66, 40.6186667768921], [51, 36.11785433486465], [147, 43.495498921674866], [23, 37.34137291280148], [48, 43.92814960313635], [21, 36.76888341543514], [112, 38.3750038893515], [9, 37.89935064935065], [179, 33.94489783061628]]\n"
     ]
    }
   ],
   "source": [
    "def labeler(classic, term):\n",
    "    blank = []\n",
    "    for i in classic:\n",
    "        blank.append(term)\n",
    "    return blank\n",
    "\n",
    "\n",
    "ad_labels = labeler(AD_cha_files, \"AD\")\n",
    "mci_labels = labeler(MCI_cha_files,\"MCI\")\n",
    "healthy_labels = labeler(Healthy_cha_files, \"Healthy\")\n",
    "\n",
    "labels = ad_labels + mci_labels + healthy_labels\n",
    "\n",
    "def combine(feature1, feature2):\n",
    "    d = []\n",
    "    for x in range(len(feature1)):\n",
    "        s = [feature1[x], feature2[x]]\n",
    "        d.append(s)\n",
    "    return d\n",
    "\n",
    "features = combine(edist_ad, pdist_ad) + combine(edist_mci, pdist_mci) + combine(edist_h, pdist_h)\n",
    "print(features)"
   ]
  },
  {
   "cell_type": "code",
   "execution_count": 125,
   "metadata": {},
   "outputs": [],
   "source": [
    "feature_train, feature_test, label_train, label_test = train_test_split(features, labels, test_size=0.33)"
   ]
  },
  {
   "cell_type": "code",
   "execution_count": 126,
   "metadata": {},
   "outputs": [
    {
     "data": {
      "text/html": [
       "<style>#sk-container-id-27 {color: black;background-color: white;}#sk-container-id-27 pre{padding: 0;}#sk-container-id-27 div.sk-toggleable {background-color: white;}#sk-container-id-27 label.sk-toggleable__label {cursor: pointer;display: block;width: 100%;margin-bottom: 0;padding: 0.3em;box-sizing: border-box;text-align: center;}#sk-container-id-27 label.sk-toggleable__label-arrow:before {content: \"▸\";float: left;margin-right: 0.25em;color: #696969;}#sk-container-id-27 label.sk-toggleable__label-arrow:hover:before {color: black;}#sk-container-id-27 div.sk-estimator:hover label.sk-toggleable__label-arrow:before {color: black;}#sk-container-id-27 div.sk-toggleable__content {max-height: 0;max-width: 0;overflow: hidden;text-align: left;background-color: #f0f8ff;}#sk-container-id-27 div.sk-toggleable__content pre {margin: 0.2em;color: black;border-radius: 0.25em;background-color: #f0f8ff;}#sk-container-id-27 input.sk-toggleable__control:checked~div.sk-toggleable__content {max-height: 200px;max-width: 100%;overflow: auto;}#sk-container-id-27 input.sk-toggleable__control:checked~label.sk-toggleable__label-arrow:before {content: \"▾\";}#sk-container-id-27 div.sk-estimator input.sk-toggleable__control:checked~label.sk-toggleable__label {background-color: #d4ebff;}#sk-container-id-27 div.sk-label input.sk-toggleable__control:checked~label.sk-toggleable__label {background-color: #d4ebff;}#sk-container-id-27 input.sk-hidden--visually {border: 0;clip: rect(1px 1px 1px 1px);clip: rect(1px, 1px, 1px, 1px);height: 1px;margin: -1px;overflow: hidden;padding: 0;position: absolute;width: 1px;}#sk-container-id-27 div.sk-estimator {font-family: monospace;background-color: #f0f8ff;border: 1px dotted black;border-radius: 0.25em;box-sizing: border-box;margin-bottom: 0.5em;}#sk-container-id-27 div.sk-estimator:hover {background-color: #d4ebff;}#sk-container-id-27 div.sk-parallel-item::after {content: \"\";width: 100%;border-bottom: 1px solid gray;flex-grow: 1;}#sk-container-id-27 div.sk-label:hover label.sk-toggleable__label {background-color: #d4ebff;}#sk-container-id-27 div.sk-serial::before {content: \"\";position: absolute;border-left: 1px solid gray;box-sizing: border-box;top: 0;bottom: 0;left: 50%;z-index: 0;}#sk-container-id-27 div.sk-serial {display: flex;flex-direction: column;align-items: center;background-color: white;padding-right: 0.2em;padding-left: 0.2em;position: relative;}#sk-container-id-27 div.sk-item {position: relative;z-index: 1;}#sk-container-id-27 div.sk-parallel {display: flex;align-items: stretch;justify-content: center;background-color: white;position: relative;}#sk-container-id-27 div.sk-item::before, #sk-container-id-27 div.sk-parallel-item::before {content: \"\";position: absolute;border-left: 1px solid gray;box-sizing: border-box;top: 0;bottom: 0;left: 50%;z-index: -1;}#sk-container-id-27 div.sk-parallel-item {display: flex;flex-direction: column;z-index: 1;position: relative;background-color: white;}#sk-container-id-27 div.sk-parallel-item:first-child::after {align-self: flex-end;width: 50%;}#sk-container-id-27 div.sk-parallel-item:last-child::after {align-self: flex-start;width: 50%;}#sk-container-id-27 div.sk-parallel-item:only-child::after {width: 0;}#sk-container-id-27 div.sk-dashed-wrapped {border: 1px dashed gray;margin: 0 0.4em 0.5em 0.4em;box-sizing: border-box;padding-bottom: 0.4em;background-color: white;}#sk-container-id-27 div.sk-label label {font-family: monospace;font-weight: bold;display: inline-block;line-height: 1.2em;}#sk-container-id-27 div.sk-label-container {text-align: center;}#sk-container-id-27 div.sk-container {/* jupyter's `normalize.less` sets `[hidden] { display: none; }` but bootstrap.min.css set `[hidden] { display: none !important; }` so we also need the `!important` here to be able to override the default hidden behavior on the sphinx rendered scikit-learn.org. See: https://github.com/scikit-learn/scikit-learn/issues/21755 */display: inline-block !important;position: relative;}#sk-container-id-27 div.sk-text-repr-fallback {display: none;}</style><div id=\"sk-container-id-27\" class=\"sk-top-container\"><div class=\"sk-text-repr-fallback\"><pre>SVC()</pre><b>In a Jupyter environment, please rerun this cell to show the HTML representation or trust the notebook. <br />On GitHub, the HTML representation is unable to render, please try loading this page with nbviewer.org.</b></div><div class=\"sk-container\" hidden><div class=\"sk-item\"><div class=\"sk-estimator sk-toggleable\"><input class=\"sk-toggleable__control sk-hidden--visually\" id=\"sk-estimator-id-27\" type=\"checkbox\" checked><label for=\"sk-estimator-id-27\" class=\"sk-toggleable__label sk-toggleable__label-arrow\">SVC</label><div class=\"sk-toggleable__content\"><pre>SVC()</pre></div></div></div></div></div>"
      ],
      "text/plain": [
       "SVC()"
      ]
     },
     "execution_count": 126,
     "metadata": {},
     "output_type": "execute_result"
    }
   ],
   "source": [
    "clf = svm.SVC()\n",
    "clf.fit(feature_train, label_train)"
   ]
  },
  {
   "cell_type": "code",
   "execution_count": 127,
   "metadata": {},
   "outputs": [
    {
     "name": "stdout",
     "output_type": "stream",
     "text": [
      "['MCI' 'MCI' 'Healthy' 'MCI' 'MCI' 'MCI' 'MCI' 'Healthy' 'MCI' 'Healthy'\n",
      " 'MCI' 'Healthy' 'MCI' 'AD' 'Healthy' 'Healthy' 'Healthy' 'MCI' 'Healthy'\n",
      " 'Healthy' 'MCI' 'Healthy' 'Healthy' 'MCI' 'MCI' 'MCI']\n",
      "0.46153846153846156\n",
      "[[[20  0]\n",
      "  [ 5  1]]\n",
      "\n",
      " [[10  6]\n",
      "  [ 5  5]]\n",
      "\n",
      " [[ 8  8]\n",
      "  [ 4  6]]]\n",
      "              precision    recall  f1-score   support\n",
      "\n",
      "          AD       1.00      0.17      0.29         6\n",
      "     Healthy       0.45      0.50      0.48        10\n",
      "         MCI       0.43      0.60      0.50        10\n",
      "\n",
      "    accuracy                           0.46        26\n",
      "   macro avg       0.63      0.42      0.42        26\n",
      "weighted avg       0.57      0.46      0.44        26\n",
      "\n"
     ]
    }
   ],
   "source": [
    "predict = clf.predict(feature_test)\n",
    "print(predict)\n",
    "print(metrics.accuracy_score(label_test, predict))\n",
    "print(metrics.multilabel_confusion_matrix(label_test, predict))\n",
    "print(metrics.classification_report(label_test, predict))"
   ]
  },
  {
   "cell_type": "code",
   "execution_count": 128,
   "metadata": {},
   "outputs": [],
   "source": [
    "# from tpot import TPOTClassifier\n",
    "# pipeline_optimizer = TPOTClassifier(max_time_mins=15)\n",
    "# pipeline_optimizer.fit(np.array(feature_train), np.array(label_train))"
   ]
  }
 ],
 "metadata": {
  "kernelspec": {
   "display_name": "Python 3.9.13 ('Kurtz-NLP': venv)",
   "language": "python",
   "name": "python3"
  },
  "language_info": {
   "codemirror_mode": {
    "name": "ipython",
    "version": 3
   },
   "file_extension": ".py",
   "mimetype": "text/x-python",
   "name": "python",
   "nbconvert_exporter": "python",
   "pygments_lexer": "ipython3",
   "version": "3.9.13"
  },
  "orig_nbformat": 4,
  "vscode": {
   "interpreter": {
    "hash": "658c0367f4af256c4bd43ddb88811b451aab9ff1cdcb436b6b9dd40ca78d7f78"
   }
  }
 },
 "nbformat": 4,
 "nbformat_minor": 2
}
